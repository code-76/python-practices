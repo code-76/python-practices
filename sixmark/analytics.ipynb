{
 "cells": [
  {
   "cell_type": "code",
   "execution_count": 118,
   "metadata": {},
   "outputs": [],
   "source": [
    "import requests\n",
    "\n",
    "def retrieve_data(url):\n",
    "    \"\"\"\n",
    "    Retrieve data from a URL.\n",
    "    \"\"\"\n",
    "    try:\n",
    "        response = requests.get(url, headers={'Content-Type': 'application/json'})\n",
    "        if response.ok:\n",
    "            return response\n",
    "    except:\n",
    "        print(\"Error: RemoteNumberDataSource.get()\")\n",
    "        return None"
   ]
  },
  {
   "cell_type": "code",
   "execution_count": 119,
   "metadata": {},
   "outputs": [
    {
     "name": "stdout",
     "output_type": "stream",
     "text": [
      "{'id': '22/039', 'date': '21/06/2022', 'no': '2+15+20+30+47+48', 'sno': '44', 'sbcode': '', 'sbnameE': '', 'sbnameC': '', 'inv': '39,970,913', 'p1': '0', 'p1u': '0.0', 'p2': '0', 'p2u': '0.0', 'p3': '148,360', 'p3u': '38.0', 'p4': '9,600', 'p4u': '103.5', 'p5': '640', 'p5u': '2,782.0', 'p6': '320', 'p6u': '3,373.0', 'p7': '40', 'p7u': '56,067.4'}\n"
     ]
    }
   ],
   "source": [
    "import json\n",
    "\n",
    "response = retrieve_data(\"https://bet.hkjc.com/contentserver/jcbw/cmc/last30draw.json\")\n",
    "json_data = json.loads(response.content)\n",
    "print(json_data[0])"
   ]
  },
  {
   "cell_type": "code",
   "execution_count": 143,
   "metadata": {},
   "outputs": [
    {
     "name": "stdout",
     "output_type": "stream",
     "text": [
      "[['2', '15', '20', '30', '47', '48'], ['9', '17', '24', '27', '33', '39']]\n"
     ]
    }
   ],
   "source": [
    "numbers_data = [i[\"no\"] for i in json_data]\n",
    "numbers_data = [x.split(\"+\") for x in numbers_data]\n",
    "print(numbers_data[:2])"
   ]
  },
  {
   "cell_type": "code",
   "execution_count": 121,
   "metadata": {},
   "outputs": [
    {
     "name": "stdout",
     "output_type": "stream",
     "text": [
      "Counter({'30': 8, '48': 7, '46': 7, '38': 6, '11': 6, '8': 6, '40': 6, '12': 6, '15': 5, '20': 5, '47': 5, '39': 5, '21': 5, '34': 5, '35': 5, '29': 5, '28': 5, '9': 4, '17': 4, '7': 4, '37': 4, '1': 4, '2': 3, '27': 3, '16': 3, '26': 3, '41': 3, '32': 3, '42': 3, '49': 3, '36': 3, '10': 3, '22': 3, '18': 3, '23': 3, '24': 2, '33': 2, '44': 2, '43': 2, '25': 2, '5': 2, '45': 2, '4': 2, '19': 2, '3': 2, '13': 1, '14': 1, '31': 1, '6': 1})\n"
     ]
    }
   ],
   "source": [
    "import collections\n",
    "import numpy as np\n",
    "\n",
    "def counter_numbers(numbers):\n",
    "    \"\"\"\n",
    "    Count the number of times each number appears in the last 30 draws.\n",
    "    \"\"\"\n",
    "    numbers = np.array(numbers)\n",
    "    counter = collections.Counter(numbers.flatten())\n",
    "    return counter\n",
    "\n",
    "counter = counter_numbers(numbers_data)\n",
    "print(counter)"
   ]
  },
  {
   "cell_type": "code",
   "execution_count": 140,
   "metadata": {},
   "outputs": [
    {
     "name": "stdout",
     "output_type": "stream",
     "text": [
      "8 ['30']\n",
      "7 ['46', '48']\n",
      "6 ['8', '11', '12', '38', '40']\n",
      "5 ['15', '20', '21', '28', '29', '34', '35', '39', '47']\n",
      "4 ['1', '7', '9', '17', '37']\n",
      "3 ['2', '10', '16', '18', '22', '23', '26', '27', '32', '36', '41', '42', '49']\n",
      "2 ['3', '4', '5', '19', '24', '25', '33', '43', '44', '45']\n",
      "1 ['6', '13', '14', '31']\n",
      "\n",
      "\n",
      "6 ['8']\n",
      "4 ['1', '7']\n",
      "3 ['2']\n",
      "2 ['3', '4', '5']\n",
      "1 ['6']\n",
      "\n",
      "\n",
      "6 ['11', '12']\n",
      "5 ['15']\n",
      "4 ['17']\n",
      "3 ['10', '16', '18']\n",
      "1 ['13', '14']\n",
      "\n",
      "\n",
      "5 ['20', '21', '28']\n",
      "3 ['22', '23', '26', '27']\n",
      "2 ['24', '25']\n",
      "\n",
      "\n",
      "8 ['30']\n",
      "6 ['38']\n",
      "5 ['34', '35']\n",
      "4 ['37']\n",
      "3 ['32', '36']\n",
      "2 ['33']\n",
      "1 ['31']\n",
      "\n",
      "\n",
      "7 ['46', '48']\n",
      "6 ['40']\n",
      "5 ['47']\n",
      "3 ['41', '42']\n",
      "2 ['43', '44', '45']\n"
     ]
    }
   ],
   "source": [
    "def get_most_number(counter):\n",
    "    \"\"\"\n",
    "    Get all the most number.\n",
    "    \"\"\"\n",
    "    numbers = []\n",
    "    most_numbers = {}\n",
    "    for k in counter.keys():\n",
    "        index = counter[k]\n",
    "        numbers = most_numbers[index]  if index in most_numbers else []\n",
    "        numbers.append(k)\n",
    "        most_numbers[index] = numbers\n",
    "\n",
    "    most_numbers = sorted(most_numbers.items(), key=lambda x: x[0], reverse=True)\n",
    "    return most_numbers\n",
    "\n",
    "def show_most_number(counter):\n",
    "    \"\"\"\n",
    "    Show the most number.\n",
    "    \"\"\"\n",
    "    most_numbers = get_most_number(counter)\n",
    "    for v in most_numbers:\n",
    "        key = v[0]\n",
    "        values = sorted(v[1], key=lambda x: int(x))\n",
    "        print(key, values)\n",
    "\n",
    "def show_particular_number(counter, by, to):\n",
    "    \"\"\"\n",
    "    Show the particular number.\n",
    "    \"\"\"\n",
    "    numbers = []\n",
    "    most_numbers = get_most_number(counter)\n",
    "    for v in most_numbers:\n",
    "        numbers.clear()\n",
    "        key = v[0]\n",
    "        values = sorted(v[1], key=lambda x: int(x))\n",
    "        for i in values:\n",
    "            if int(i) in range(by, to):\n",
    "                numbers.append(i)\n",
    "        if len(numbers) > 0: print(key, numbers)\n",
    "\n",
    "\n",
    "show_most_number(counter)\n",
    "print(\"\\n\")\n",
    "show_particular_number(counter, 1, 9)\n",
    "print(\"\\n\")\n",
    "show_particular_number(counter, 10, 19)\n",
    "print(\"\\n\")\n",
    "show_particular_number(counter, 20, 29)\n",
    "print(\"\\n\")\n",
    "show_particular_number(counter, 30, 39)\n",
    "print(\"\\n\")\n",
    "show_particular_number(counter, 40, 49)"
   ]
  },
  {
   "cell_type": "code",
   "execution_count": 132,
   "metadata": {},
   "outputs": [
    {
     "name": "stdout",
     "output_type": "stream",
     "text": [
      "1 ~ 9 : 14%\n",
      "10 ~ 19 : 18%\n",
      "20 ~ 29 : 18%\n",
      "30 ~ 39 : 21%\n",
      "40 ~ 49 : 21%\n"
     ]
    }
   ],
   "source": [
    "import math\n",
    "\n",
    "def search_numbers(numbers, by, to):\n",
    "    \"\"\"\n",
    "    Search for a number in a list of numbers.\n",
    "    \"\"\"\n",
    "    slots = []\n",
    "    for i in numbers:\n",
    "        for k in i:\n",
    "            if int(k)in range(by, to):\n",
    "                slots.append(k)\n",
    "    return slots\n",
    "\n",
    "def show_percentage(numbers, by, to):\n",
    "    \"\"\"\n",
    "    Show the percentage of numbers in a list of numbers.\n",
    "    \"\"\"\n",
    "    slots = search_numbers(numbers, by, to)\n",
    "    percent = math.ceil((len(slots) / (len(numbers) * 6)) * 100)\n",
    "    print(\"{} ~ {} : {}%\".format(by, to, percent))\n",
    "\n",
    "show_percentage(numbers_data, 1, 9)\n",
    "show_percentage(numbers_data, 10, 19)\n",
    "show_percentage(numbers_data, 20, 29)\n",
    "show_percentage(numbers_data, 30, 39)\n",
    "show_percentage(numbers_data, 40, 49)"
   ]
  }
 ],
 "metadata": {
  "kernelspec": {
   "display_name": "Python 3.10.5 64-bit",
   "language": "python",
   "name": "python3"
  },
  "language_info": {
   "codemirror_mode": {
    "name": "ipython",
    "version": 3
   },
   "file_extension": ".py",
   "mimetype": "text/x-python",
   "name": "python",
   "nbconvert_exporter": "python",
   "pygments_lexer": "ipython3",
   "version": "3.10.5"
  },
  "orig_nbformat": 4,
  "vscode": {
   "interpreter": {
    "hash": "b6213e0af081d56db034f795ff49d96980936e2ae540dda57fc6c3cbea6a5fc9"
   }
  }
 },
 "nbformat": 4,
 "nbformat_minor": 2
}
